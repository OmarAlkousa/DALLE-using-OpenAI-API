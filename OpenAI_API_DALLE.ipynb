{
  "nbformat": 4,
  "nbformat_minor": 0,
  "metadata": {
    "colab": {
      "provenance": []
    },
    "kernelspec": {
      "name": "python3",
      "display_name": "Python 3"
    },
    "language_info": {
      "name": "python"
    }
  },
  "cells": [
    {
      "cell_type": "markdown",
      "source": [
        "This notebook is to learn how to use OpenAI API for Image Generation Applications using DALL.E models "
      ],
      "metadata": {
        "id": "3VzYqX5D8tGk"
      }
    },
    {
      "cell_type": "code",
      "execution_count": 1,
      "metadata": {
        "colab": {
          "base_uri": "https://localhost:8080/"
        },
        "id": "0z1_Yky_lz5B",
        "outputId": "353c1e0d-ca5d-4286-8b3f-1fb2fa38482c"
      },
      "outputs": [
        {
          "output_type": "stream",
          "name": "stdout",
          "text": [
            "Looking in indexes: https://pypi.org/simple, https://us-python.pkg.dev/colab-wheels/public/simple/\n",
            "Collecting openai\n",
            "  Downloading openai-0.26.0.tar.gz (54 kB)\n",
            "\u001b[2K     \u001b[90m━━━━━━━━━━━━━━━━━━━━━━━━━━━━━━━━━━━━━━━━\u001b[0m \u001b[32m54.7/54.7 KB\u001b[0m \u001b[31m2.8 MB/s\u001b[0m eta \u001b[36m0:00:00\u001b[0m\n",
            "\u001b[?25h  Installing build dependencies ... \u001b[?25l\u001b[?25hdone\n",
            "  Getting requirements to build wheel ... \u001b[?25l\u001b[?25hdone\n",
            "  Preparing metadata (pyproject.toml) ... \u001b[?25l\u001b[?25hdone\n",
            "Requirement already satisfied: tqdm in /usr/local/lib/python3.8/dist-packages (from openai) (4.64.1)\n",
            "Requirement already satisfied: aiohttp in /usr/local/lib/python3.8/dist-packages (from openai) (3.8.3)\n",
            "Requirement already satisfied: requests>=2.20 in /usr/local/lib/python3.8/dist-packages (from openai) (2.25.1)\n",
            "Requirement already satisfied: chardet<5,>=3.0.2 in /usr/local/lib/python3.8/dist-packages (from requests>=2.20->openai) (4.0.0)\n",
            "Requirement already satisfied: idna<3,>=2.5 in /usr/local/lib/python3.8/dist-packages (from requests>=2.20->openai) (2.10)\n",
            "Requirement already satisfied: certifi>=2017.4.17 in /usr/local/lib/python3.8/dist-packages (from requests>=2.20->openai) (2022.12.7)\n",
            "Requirement already satisfied: urllib3<1.27,>=1.21.1 in /usr/local/lib/python3.8/dist-packages (from requests>=2.20->openai) (1.24.3)\n",
            "Requirement already satisfied: multidict<7.0,>=4.5 in /usr/local/lib/python3.8/dist-packages (from aiohttp->openai) (6.0.4)\n",
            "Requirement already satisfied: attrs>=17.3.0 in /usr/local/lib/python3.8/dist-packages (from aiohttp->openai) (22.2.0)\n",
            "Requirement already satisfied: charset-normalizer<3.0,>=2.0 in /usr/local/lib/python3.8/dist-packages (from aiohttp->openai) (2.1.1)\n",
            "Requirement already satisfied: async-timeout<5.0,>=4.0.0a3 in /usr/local/lib/python3.8/dist-packages (from aiohttp->openai) (4.0.2)\n",
            "Requirement already satisfied: yarl<2.0,>=1.0 in /usr/local/lib/python3.8/dist-packages (from aiohttp->openai) (1.8.2)\n",
            "Requirement already satisfied: aiosignal>=1.1.2 in /usr/local/lib/python3.8/dist-packages (from aiohttp->openai) (1.3.1)\n",
            "Requirement already satisfied: frozenlist>=1.1.1 in /usr/local/lib/python3.8/dist-packages (from aiohttp->openai) (1.3.3)\n",
            "Building wheels for collected packages: openai\n",
            "  Building wheel for openai (pyproject.toml) ... \u001b[?25l\u001b[?25hdone\n",
            "  Created wheel for openai: filename=openai-0.26.0-py3-none-any.whl size=66855 sha256=db4df3dc7028ee299a5028a096f3813c00976363ac8dd3d3b193e73abf62cfb6\n",
            "  Stored in directory: /root/.cache/pip/wheels/7e/4c/c8/31e9d441bd937e2b9076627465f9db43ab6db40f08aae60b66\n",
            "Successfully built openai\n",
            "Installing collected packages: openai\n",
            "Successfully installed openai-0.26.0\n"
          ]
        }
      ],
      "source": [
        "# Install the required package\n",
        "!pip install openai"
      ]
    },
    {
      "cell_type": "code",
      "source": [
        "# Import the package\n",
        "import openai"
      ],
      "metadata": {
        "id": "mj_szvj5_P04"
      },
      "execution_count": 75,
      "outputs": []
    },
    {
      "cell_type": "markdown",
      "source": [
        "Now that you've installed and imported the required package, you need to set up your environment based on a special API key. First, you have to [**sign up**](https://auth0.openai.com/u/signup/identifier?state=hKFo2SBvSy02UTZIXzJqSm1OREl2UnY5OTljc1haMl9mb21GdKFur3VuaXZlcnNhbC1sb2dpbqN0aWTZIFVyU1BZaDJhOGR0NUlSdU5PSENPOHJpcHVOWU5BRXFpo2NpZNkgRFJpdnNubTJNdTQyVDNLT3BxZHR3QjNOWXZpSFl6d0Q) for OpenAI. After that, refer to the [**API-key generator**](https://beta.openai.com/account/api-keys) to generate your secret api_key. Copy the API-key to paste it as a string in **my_api_key** below.\n",
        "\n",
        "> **Do not share your API key with others, or expose it in the browser or other client-side code.**"
      ],
      "metadata": {
        "id": "Q7pJU4xRBUnP"
      }
    },
    {
      "cell_type": "code",
      "source": [
        "# Paste your api_key\n",
        "my_api_key = \"paste your api_key here\"\n",
        "# Run the environment based on your api_key\n",
        "openai.api_key = my_api_key"
      ],
      "metadata": {
        "id": "8fSGwoFomIQM"
      },
      "execution_count": 14,
      "outputs": []
    },
    {
      "cell_type": "markdown",
      "source": [
        "Now you're ready to generate the images. Write down your thoughts in the prompt argument. You can also specify the number of generated images and the size of the images. The output of the code below will be in a JSON file. You can click on the URL of the picture to get it."
      ],
      "metadata": {
        "id": "LCm-gol3E1ir"
      }
    },
    {
      "cell_type": "code",
      "source": [
        "# Creat images using DALL.E Models\n",
        "openai.Image.create(\n",
        "    # Write what you like to generate in the prompt argument\n",
        "    prompt = \"Bioedical Engineering oil painting Da Vici Theme\",\n",
        "    # Specify the number of images you want to generate based on your prompt text\n",
        "    n = 4,\n",
        "    # You have three options \"1024x1024\", \"512x512\", and \"265x265\"\n",
        "    size = \"1024x1024\"\n",
        "    )"
      ],
      "metadata": {
        "id": "QioHolYupcDk"
      },
      "execution_count": null,
      "outputs": []
    }
  ]
}